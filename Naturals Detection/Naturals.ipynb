{
 "cells": [
  {
   "cell_type": "code",
   "execution_count": 7,
   "id": "2a77646a",
   "metadata": {},
   "outputs": [],
   "source": [
    "from PIL import Image\n",
    "import os\n",
    "import numpy as np\n",
    "from sklearn.model_selection import train_test_split\n",
    "import cv2\n",
    "import tensorflow as tf\n",
    "import matplotlib.pyplot as plt"
   ]
  },
  {
   "cell_type": "code",
   "execution_count": 8,
   "id": "ce86f67b",
   "metadata": {},
   "outputs": [
    {
     "name": "stdout",
     "output_type": "stream",
     "text": [
      "Epoch 1/10\n",
      "49/49 [==============================] - 835s 17s/step - loss: 1.1988 - accuracy: 0.6865 - val_loss: 0.5301 - val_accuracy: 0.7928\n",
      "Epoch 2/10\n",
      "49/49 [==============================] - 832s 17s/step - loss: 0.2970 - accuracy: 0.9032 - val_loss: 0.4331 - val_accuracy: 0.8542\n",
      "Epoch 3/10\n",
      "49/49 [==============================] - 827s 17s/step - loss: 0.1951 - accuracy: 0.9314 - val_loss: 0.4736 - val_accuracy: 0.8210\n",
      "Epoch 4/10\n",
      "49/49 [==============================] - 833s 17s/step - loss: 0.0926 - accuracy: 0.9769 - val_loss: 0.4124 - val_accuracy: 0.8747\n",
      "Epoch 5/10\n",
      "49/49 [==============================] - 826s 17s/step - loss: 0.0452 - accuracy: 0.9929 - val_loss: 0.3954 - val_accuracy: 0.8440\n",
      "Epoch 6/10\n",
      "49/49 [==============================] - 825s 17s/step - loss: 0.0216 - accuracy: 0.9994 - val_loss: 0.4433 - val_accuracy: 0.8747\n",
      "Epoch 7/10\n",
      "49/49 [==============================] - 827s 17s/step - loss: 0.0143 - accuracy: 1.0000 - val_loss: 0.4166 - val_accuracy: 0.8696\n",
      "Epoch 8/10\n",
      "49/49 [==============================] - 826s 17s/step - loss: 0.0103 - accuracy: 1.0000 - val_loss: 0.4239 - val_accuracy: 0.8721\n",
      "Epoch 9/10\n",
      "49/49 [==============================] - 826s 17s/step - loss: 0.0074 - accuracy: 1.0000 - val_loss: 0.4309 - val_accuracy: 0.8645\n",
      "Epoch 10/10\n",
      "49/49 [==============================] - 825s 17s/step - loss: 0.0071 - accuracy: 1.0000 - val_loss: 0.4281 - val_accuracy: 0.8645\n"
     ]
    },
    {
     "data": {
      "text/plain": [
       "<keras.callbacks.History at 0x2da55a449d0>"
      ]
     },
     "execution_count": 8,
     "metadata": {},
     "output_type": "execute_result"
    }
   ],
   "source": [
    "import tensorflow as tf\n",
    "from tensorflow.keras.layers import Dense, Flatten\n",
    "from tensorflow.keras.applications import VGG16\n",
    "\n",
    "DATADIR = 'C:/Users/mine/Desktop/natural'\n",
    "CATEGORIES = ['buildings', 'forest', 'glaciers', 'mountains', 'sea']\n",
    "img_size = 128\n",
    "\n",
    "# Load the pre-trained VGG16 model\n",
    "base_model = VGG16(weights='imagenet', include_top=False, input_shape=(img_size, img_size, 3))\n",
    "\n",
    "# Freeze the pre-trained layers\n",
    "for layer in base_model.layers:\n",
    "    layer.trainable = False\n",
    "\n",
    "# Add new trainable layers on top of the pre-trained model\n",
    "x = base_model.output\n",
    "x = Flatten()(x)\n",
    "x = Dense(1024, activation='relu')(x)\n",
    "output = Dense(len(CATEGORIES), activation='softmax')(x)\n",
    "\n",
    "# Define the new model\n",
    "model = tf.keras.models.Model(inputs=base_model.input, outputs=output)\n",
    "\n",
    "# Compile the model\n",
    "model.compile(optimizer='adam', loss='categorical_crossentropy', metrics=['accuracy'])\n",
    "\n",
    "# Load and preprocess the data\n",
    "def load_data():\n",
    "    training_data = []\n",
    "    for category in CATEGORIES:\n",
    "        path = os.path.join(DATADIR, category)\n",
    "        class_num = CATEGORIES.index(category)\n",
    "        for img in os.listdir(path):\n",
    "            try:\n",
    "                img_array = cv2.imread(os.path.join(path, img), cv2.IMREAD_COLOR)\n",
    "                new_array = cv2.resize(img_array, (img_size, img_size))\n",
    "                training_data.append([new_array, class_num])\n",
    "            except Exception as e:\n",
    "                pass\n",
    "    x = np.array([i[0] for i in training_data]) / 255.0\n",
    "    y = np.array([i[1] for i in training_data])\n",
    "    y = tf.keras.utils.to_categorical(y, len(CATEGORIES))\n",
    "    x_train, x_val, y_train, y_val = train_test_split(x, y, test_size=0.2, random_state=42)\n",
    "    return x_train, x_val, y_train, y_val\n",
    "\n",
    "x_train, x_val, y_train, y_val = load_data()\n",
    "\n",
    "# Train the model\n",
    "model.fit(x_train, y_train, epochs=10, validation_data=(x_val, y_val))\n"
   ]
  },
  {
   "cell_type": "code",
   "execution_count": 13,
   "id": "71f75437",
   "metadata": {},
   "outputs": [
    {
     "name": "stdout",
     "output_type": "stream",
     "text": [
      "Test loss: 0.42809000611305237\n",
      "Test accuracy: 0.8644501566886902\n"
     ]
    }
   ],
   "source": [
    "# Evaluate the model on the test set\n",
    "test_loss, test_acc = model.evaluate(x_val, y_val, verbose=0)\n",
    "\n",
    "# Print the test loss and accuracy\n",
    "print('Test loss:', test_loss)\n",
    "print('Test accuracy:', test_acc)"
   ]
  },
  {
   "cell_type": "code",
   "execution_count": 14,
   "id": "d1ad8f4a",
   "metadata": {},
   "outputs": [],
   "source": [
    "model.save('my_model.h5')"
   ]
  },
  {
   "cell_type": "code",
   "execution_count": 22,
   "id": "e266c82f",
   "metadata": {},
   "outputs": [
    {
     "name": "stdout",
     "output_type": "stream",
     "text": [
      "WARNING:tensorflow:6 out of the last 6 calls to <function Model.make_predict_function.<locals>.predict_function at 0x000002DA559D14C0> triggered tf.function retracing. Tracing is expensive and the excessive number of tracings could be due to (1) creating @tf.function repeatedly in a loop, (2) passing tensors with different shapes, (3) passing Python objects instead of tensors. For (1), please define your @tf.function outside of the loop. For (2), @tf.function has reduce_retracing=True option that can avoid unnecessary retracing. For (3), please refer to https://www.tensorflow.org/guide/function#controlling_retracing and https://www.tensorflow.org/api_docs/python/tf/function for  more details.\n",
      "1/1 [==============================] - 1s 977ms/step\n",
      "The predicted class of the image is: glaciers\n"
     ]
    }
   ],
   "source": [
    "import numpy as np\n",
    "from PIL import Image\n",
    "from keras.models import load_model\n",
    "\n",
    "# Load your trained CNN model\n",
    "model = load_model('my_model.h5')\n",
    "\n",
    "# Load the image you want to classify\n",
    "image = Image.open(r'C:\\Users\\mine\\Desktop\\natural\\mountains\\images344.jpg')\n",
    "\n",
    "# Preprocess the image\n",
    "image = image.resize((128, 128))\n",
    "image = np.array(image) / 255.0\n",
    "image = image.reshape((1, 128, 128, 3))\n",
    "\n",
    "# Make a prediction\n",
    "preds = model.predict(image)\n",
    "\n",
    "# Find the index of the highest probability value\n",
    "pred_class = np.argmax(preds)\n",
    "\n",
    "# Map the predicted index to the corresponding class label\n",
    "classes = ['buildings', 'forest', 'sea', 'glaciers', 'mountains']\n",
    "pred_label = classes[pred_class]\n",
    "\n",
    "# Display the result\n",
    "print('The predicted class of the image is:', pred_label)"
   ]
  },
  {
   "cell_type": "code",
   "execution_count": null,
   "id": "5394dbd4",
   "metadata": {},
   "outputs": [],
   "source": []
  }
 ],
 "metadata": {
  "kernelspec": {
   "display_name": "Python 3 (ipykernel)",
   "language": "python",
   "name": "python3"
  },
  "language_info": {
   "codemirror_mode": {
    "name": "ipython",
    "version": 3
   },
   "file_extension": ".py",
   "mimetype": "text/x-python",
   "name": "python",
   "nbconvert_exporter": "python",
   "pygments_lexer": "ipython3",
   "version": "3.9.12"
  }
 },
 "nbformat": 4,
 "nbformat_minor": 5
}
